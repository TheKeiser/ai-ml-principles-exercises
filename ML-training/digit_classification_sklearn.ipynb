{
  "nbformat": 4,
  "nbformat_minor": 0,
  "metadata": {
    "colab": {
      "provenance": [],
      "authorship_tag": "ABX9TyOhwhTSA8/MD3a6rvno32A7",
      "include_colab_link": true
    },
    "kernelspec": {
      "name": "python3",
      "display_name": "Python 3"
    },
    "language_info": {
      "name": "python"
    }
  },
  "cells": [
    {
      "cell_type": "markdown",
      "metadata": {
        "id": "view-in-github",
        "colab_type": "text"
      },
      "source": [
        "<a href=\"https://colab.research.google.com/github/TheKeiser/ai-ml-principles-exercises/blob/main/ML-training/digit_classification_sklearn.ipynb\" target=\"_parent\"><img src=\"https://colab.research.google.com/assets/colab-badge.svg\" alt=\"Open In Colab\"/></a>"
      ]
    },
    {
      "cell_type": "code",
      "execution_count": 102,
      "metadata": {
        "id": "ZFAtT4DIrT_6"
      },
      "outputs": [],
      "source": [
        "import sklearn\n",
        "import numpy as np"
      ]
    },
    {
      "cell_type": "code",
      "source": [
        "import sklearn.datasets as datasets"
      ],
      "metadata": {
        "id": "QKvG0EMIriSP"
      },
      "execution_count": 103,
      "outputs": []
    },
    {
      "cell_type": "code",
      "source": [
        "data = datasets.load_digits()"
      ],
      "metadata": {
        "id": "UO13_4SXrvaO"
      },
      "execution_count": 104,
      "outputs": []
    },
    {
      "cell_type": "code",
      "source": [
        "type(data)"
      ],
      "metadata": {
        "colab": {
          "base_uri": "https://localhost:8080/"
        },
        "id": "5viq6nKIr3mu",
        "outputId": "bde281b5-3d7a-4285-f591-a2be23f4687b"
      },
      "execution_count": null,
      "outputs": [
        {
          "output_type": "execute_result",
          "data": {
            "text/plain": [
              "sklearn.utils.Bunch"
            ]
          },
          "metadata": {},
          "execution_count": 12
        }
      ]
    },
    {
      "cell_type": "code",
      "source": [
        "data.keys()"
      ],
      "metadata": {
        "colab": {
          "base_uri": "https://localhost:8080/"
        },
        "id": "8ErzrfFHr7x9",
        "outputId": "a4f947e6-d79e-4ab6-bcca-e0a345e8ec2f"
      },
      "execution_count": null,
      "outputs": [
        {
          "output_type": "execute_result",
          "data": {
            "text/plain": [
              "dict_keys(['data', 'target', 'frame', 'feature_names', 'target_names', 'images', 'DESCR'])"
            ]
          },
          "metadata": {},
          "execution_count": 13
        }
      ]
    },
    {
      "cell_type": "code",
      "source": [
        "(data.images[0] / 16 * 255).astype(np.uint8) #delar med 16 och multiplicerar med 255 för att få från 0-255 istället (för 0-16) och gör om till uint8 typ"
      ],
      "metadata": {
        "colab": {
          "base_uri": "https://localhost:8080/"
        },
        "id": "_5fpeYhSsBOd",
        "outputId": "7f569dea-98f0-4ccc-d2f1-420ddc382547"
      },
      "execution_count": null,
      "outputs": [
        {
          "output_type": "execute_result",
          "data": {
            "text/plain": [
              "array([[  0,   0,  79, 207, 143,  15,   0,   0],\n",
              "       [  0,   0, 207, 239, 159, 239,  79,   0],\n",
              "       [  0,  47, 239,  31,   0, 175, 127,   0],\n",
              "       [  0,  63, 191,   0,   0, 127, 127,   0],\n",
              "       [  0,  79, 127,   0,   0, 143, 127,   0],\n",
              "       [  0,  63, 175,   0,  15, 191, 111,   0],\n",
              "       [  0,  31, 223,  79, 159, 191,   0,   0],\n",
              "       [  0,   0,  95, 207, 159,   0,   0,   0]], dtype=uint8)"
            ]
          },
          "metadata": {},
          "execution_count": 14
        }
      ]
    },
    {
      "cell_type": "code",
      "source": [
        "from PIL import Image\n",
        "Image.fromarray((data.images[0] / 16 * 255).astype(np.uint8), 'L').resize((100,100)) #reshapar och visulaiserar (tidigare liten bild)"
      ],
      "metadata": {
        "colab": {
          "base_uri": "https://localhost:8080/",
          "height": 117
        },
        "id": "GfoqcLFKuL_S",
        "outputId": "97680fde-70dd-4e9a-fe38-47d4e6d64829"
      },
      "execution_count": null,
      "outputs": [
        {
          "output_type": "execute_result",
          "data": {
            "text/plain": [
              "<PIL.Image.Image image mode=L size=100x100 at 0x7F9C65D6D700>"
            ],
            "image/png": "[encoded data removed]"
          },
          "metadata": {},
          "execution_count": 15
        }
      ]
    },
    {
      "cell_type": "code",
      "source": [
        "from PIL import Image\n",
        "Image.fromarray((data.images[0] / 16 * 255).astype(np.uint8), 'L').resize((100,100), resample = Image.NEAREST) #resamplar med metod nearest"
      ],
      "metadata": {
        "colab": {
          "base_uri": "https://localhost:8080/",
          "height": 117
        },
        "id": "EJo5z2pjv1Og",
        "outputId": "ad8781cd-8cbc-460e-b1eb-e7e8b107ee8c"
      },
      "execution_count": null,
      "outputs": [
        {
          "output_type": "execute_result",
          "data": {
            "text/plain": [
              "<PIL.Image.Image image mode=L size=100x100 at 0x7F9C65A18A90>"
            ],
            "image/png": "[encoded data removed]"
          },
          "metadata": {},
          "execution_count": 16
        }
      ]
    },
    {
      "cell_type": "code",
      "source": [
        "from PIL import Image\n",
        "\n",
        "i=7\n",
        "print(data.target[i])\n",
        "Image.fromarray((data.images[i] / 16 * 255).astype(np.uint8), 'L').resize((100,100), resample = Image.NEAREST) #reshapar och visulaiserar (tidigare liten bild)"
      ],
      "metadata": {
        "colab": {
          "base_uri": "https://localhost:8080/",
          "height": 134
        },
        "id": "qNxUVQ2awH_x",
        "outputId": "1cffe5b6-a271-4e2c-d072-7bb44acd2186"
      },
      "execution_count": null,
      "outputs": [
        {
          "output_type": "stream",
          "name": "stdout",
          "text": [
            "7\n"
          ]
        },
        {
          "output_type": "execute_result",
          "data": {
            "text/plain": [
              "<PIL.Image.Image image mode=L size=100x100 at 0x7F9C65A184C0>"
            ],
            "image/png": "[encoded data removed]"
          },
          "metadata": {},
          "execution_count": 17
        }
      ]
    },
    {
      "cell_type": "code",
      "source": [
        "data.target[0]"
      ],
      "metadata": {
        "colab": {
          "base_uri": "https://localhost:8080/"
        },
        "id": "V5cWdKidsmGr",
        "outputId": "1180ab02-f496-463f-95ef-c3a0872cff98"
      },
      "execution_count": null,
      "outputs": [
        {
          "output_type": "execute_result",
          "data": {
            "text/plain": [
              "0"
            ]
          },
          "metadata": {},
          "execution_count": 18
        }
      ]
    },
    {
      "cell_type": "code",
      "source": [],
      "metadata": {
        "id": "YRlxeI__wFnm"
      },
      "execution_count": null,
      "outputs": []
    },
    {
      "cell_type": "code",
      "source": [
        "\n",
        "np.max(data.images)"
      ],
      "metadata": {
        "colab": {
          "base_uri": "https://localhost:8080/"
        },
        "id": "ZzryrZRqs6dv",
        "outputId": "eac3bb80-30a4-412c-c496-7ff81897fe71"
      },
      "execution_count": null,
      "outputs": [
        {
          "output_type": "execute_result",
          "data": {
            "text/plain": [
              "16.0"
            ]
          },
          "metadata": {},
          "execution_count": 19
        }
      ]
    },
    {
      "cell_type": "code",
      "source": [
        "data.images.reshape((len(data.images), -1)).shape"
      ],
      "metadata": {
        "id": "M6H6m1YNtDyv",
        "colab": {
          "base_uri": "https://localhost:8080/"
        },
        "outputId": "78046a16-434f-4ec5-887e-6d3c58e0c6bd"
      },
      "execution_count": null,
      "outputs": [
        {
          "output_type": "execute_result",
          "data": {
            "text/plain": [
              "(1797, 64)"
            ]
          },
          "metadata": {},
          "execution_count": 25
        }
      ]
    },
    {
      "cell_type": "markdown",
      "source": [
        "# Train a model\n",
        "* Perform a dataset split into training data and test data\n",
        "* Train a SVM calssifier\n",
        "* Evaluate the classifier"
      ],
      "metadata": {
        "id": "Mszo0d48HwAN"
      }
    },
    {
      "cell_type": "code",
      "source": [
        "from sklearn.model_selection import train_test_split"
      ],
      "metadata": {
        "id": "HdJ4jDmdIB_5"
      },
      "execution_count": null,
      "outputs": []
    },
    {
      "cell_type": "code",
      "source": [
        "flat_dataset = data.images.reshape((len(data.images), -1))\n",
        "x_train, x_test, y_train, y_test = train_test_split(flat_dataset, data.target, train_size = 0.8) "
      ],
      "metadata": {
        "id": "GiAvyXjTIYta"
      },
      "execution_count": null,
      "outputs": []
    },
    {
      "cell_type": "code",
      "source": [
        "x_test.shape"
      ],
      "metadata": {
        "colab": {
          "base_uri": "https://localhost:8080/"
        },
        "id": "cOZ0S5-fLZGU",
        "outputId": "b9e01823-927f-4235-cffb-9ff1b55181ac"
      },
      "execution_count": null,
      "outputs": [
        {
          "output_type": "execute_result",
          "data": {
            "text/plain": [
              "(360, 64)"
            ]
          },
          "metadata": {},
          "execution_count": 32
        }
      ]
    },
    {
      "cell_type": "code",
      "source": [
        "y_test.shape"
      ],
      "metadata": {
        "colab": {
          "base_uri": "https://localhost:8080/"
        },
        "id": "LnVxM_wwudby",
        "outputId": "106e92f1-8fda-4e36-c3eb-ab79fce0d10a"
      },
      "execution_count": null,
      "outputs": [
        {
          "output_type": "execute_result",
          "data": {
            "text/plain": [
              "(360,)"
            ]
          },
          "metadata": {},
          "execution_count": 51
        }
      ]
    },
    {
      "cell_type": "code",
      "source": [
        "print(y_train[100])"
      ],
      "metadata": {
        "colab": {
          "base_uri": "https://localhost:8080/"
        },
        "id": "feJ0tOUTukBQ",
        "outputId": "38a4a30d-d18b-4c76-f106-4f9926241d1e"
      },
      "execution_count": null,
      "outputs": [
        {
          "output_type": "stream",
          "name": "stdout",
          "text": [
            "9\n"
          ]
        }
      ]
    },
    {
      "cell_type": "code",
      "source": [
        "print(y_test[100])\n",
        "Image.fromarray((x_test[100].reshape((8,8)) / 16 * 255).astype(np.uint8), 'L').resize((100,100))"
      ],
      "metadata": {
        "colab": {
          "base_uri": "https://localhost:8080/",
          "height": 134
        },
        "id": "4iATOFzeLvD7",
        "outputId": "fe8a7327-b974-47bd-f4e4-a0ad780d3a7c"
      },
      "execution_count": null,
      "outputs": [
        {
          "output_type": "stream",
          "name": "stdout",
          "text": [
            "5\n"
          ]
        },
        {
          "output_type": "execute_result",
          "data": {
            "text/plain": [
              "<PIL.Image.Image image mode=L size=100x100 at 0x7F9C64E4FE80>"
            ],
            "image/png": "[encoded data removed]"
          },
          "metadata": {},
          "execution_count": 39
        }
      ]
    },
    {
      "cell_type": "code",
      "source": [
        "from sklearn import svm"
      ],
      "metadata": {
        "id": "UGtT-lzuNWOs"
      },
      "execution_count": null,
      "outputs": []
    },
    {
      "cell_type": "code",
      "source": [
        "model = svm.SVC(gamma=0.001)\n",
        "model.fit(x_train, y_train) #training model"
      ],
      "metadata": {
        "colab": {
          "base_uri": "https://localhost:8080/"
        },
        "id": "LWG4iErKOaUd",
        "outputId": "f0da0382-517a-45e8-dd4c-58f37e8b229a"
      },
      "execution_count": null,
      "outputs": [
        {
          "output_type": "execute_result",
          "data": {
            "text/plain": [
              "SVC(gamma=0.001)"
            ]
          },
          "metadata": {},
          "execution_count": 42
        }
      ]
    },
    {
      "cell_type": "code",
      "source": [
        "model.predict(x_train[0:10]) # model is trained on"
      ],
      "metadata": {
        "colab": {
          "base_uri": "https://localhost:8080/"
        },
        "id": "g1M-4y09PLFt",
        "outputId": "a7246ddb-0c86-48a1-d7e1-fc9bad0ea022"
      },
      "execution_count": null,
      "outputs": [
        {
          "output_type": "execute_result",
          "data": {
            "text/plain": [
              "array([2, 4, 9, 9, 7, 8, 7, 1, 0, 1])"
            ]
          },
          "metadata": {},
          "execution_count": 45
        }
      ]
    },
    {
      "cell_type": "code",
      "source": [
        "y_train[0:10] #it is correct"
      ],
      "metadata": {
        "colab": {
          "base_uri": "https://localhost:8080/"
        },
        "id": "-XsnzeHWPqIt",
        "outputId": "77113035-2274-47dc-fc19-03486c99bd5d"
      },
      "execution_count": null,
      "outputs": [
        {
          "output_type": "execute_result",
          "data": {
            "text/plain": [
              "array([2, 4, 9, 9, 7, 8, 7, 1, 0, 1])"
            ]
          },
          "metadata": {},
          "execution_count": 46
        }
      ]
    },
    {
      "cell_type": "code",
      "source": [
        "model.predict(x_test[0:10]) #testar med testsettet"
      ],
      "metadata": {
        "colab": {
          "base_uri": "https://localhost:8080/"
        },
        "id": "WeYYGFIYP7I-",
        "outputId": "d4ac59aa-7918-4529-fc6a-d60695821872"
      },
      "execution_count": null,
      "outputs": [
        {
          "output_type": "execute_result",
          "data": {
            "text/plain": [
              "array([1, 5, 9, 9, 5, 1, 1, 0, 9, 3])"
            ]
          },
          "metadata": {},
          "execution_count": 48
        }
      ]
    },
    {
      "cell_type": "code",
      "source": [
        "y_test[0:10] #ok, korrekt"
      ],
      "metadata": {
        "colab": {
          "base_uri": "https://localhost:8080/"
        },
        "id": "wQVj5gL6QTTd",
        "outputId": "e02ac326-7935-4fcd-b0d4-1cebbcfa28e1"
      },
      "execution_count": null,
      "outputs": [
        {
          "output_type": "execute_result",
          "data": {
            "text/plain": [
              "array([1, 5, 9, 9, 5, 1, 1, 0, 9, 3])"
            ]
          },
          "metadata": {},
          "execution_count": 47
        }
      ]
    },
    {
      "cell_type": "code",
      "source": [
        "from sklearn import metrics "
      ],
      "metadata": {
        "id": "Q5AiOWUOQTWA"
      },
      "execution_count": null,
      "outputs": []
    },
    {
      "cell_type": "code",
      "source": [
        "predicted = model.predict(x_test)\n",
        "print(metrics.classification_report(y_test,predicted)) #evaluate model"
      ],
      "metadata": {
        "colab": {
          "base_uri": "https://localhost:8080/"
        },
        "id": "3yxcNV-Zreki",
        "outputId": "f1f60874-5fd6-41d7-9095-923c52c6d8d1"
      },
      "execution_count": null,
      "outputs": [
        {
          "output_type": "stream",
          "name": "stdout",
          "text": [
            "              precision    recall  f1-score   support\n",
            "\n",
            "           0       1.00      1.00      1.00        33\n",
            "           1       1.00      1.00      1.00        39\n",
            "           2       1.00      1.00      1.00        27\n",
            "           3       0.97      0.97      0.97        38\n",
            "           4       1.00      1.00      1.00        42\n",
            "           5       0.98      0.98      0.98        41\n",
            "           6       1.00      1.00      1.00        38\n",
            "           7       0.98      1.00      0.99        42\n",
            "           8       1.00      1.00      1.00        19\n",
            "           9       0.97      0.95      0.96        41\n",
            "\n",
            "    accuracy                           0.99       360\n",
            "   macro avg       0.99      0.99      0.99       360\n",
            "weighted avg       0.99      0.99      0.99       360\n",
            "\n"
          ]
        }
      ]
    },
    {
      "cell_type": "code",
      "source": [
        "metrics.ConfusionMatrixDisplay.from_predictions(y_test, predicted) #evaluate model"
      ],
      "metadata": {
        "colab": {
          "base_uri": "https://localhost:8080/",
          "height": 296
        },
        "id": "7WI65tmCu-AL",
        "outputId": "18fb6016-6c89-4acc-c463-68b7bfd0023d"
      },
      "execution_count": null,
      "outputs": [
        {
          "output_type": "execute_result",
          "data": {
            "text/plain": [
              "<sklearn.metrics._plot.confusion_matrix.ConfusionMatrixDisplay at 0x7f9c651014c0>"
            ]
          },
          "metadata": {},
          "execution_count": 56
        },
        {
          "output_type": "display_data",
          "data": {
            "text/plain": [
              "<Figure size 432x288 with 2 Axes>"
            ],
            "image/png": "[encoded data removed]"
          },
          "metadata": {
            "needs_background": "light"
          }
        }
      ]
    },
    {
      "cell_type": "code",
      "source": [
        "model"
      ],
      "metadata": {
        "id": "Zq7gCiipyLMM",
        "outputId": "2d84e34c-67d0-49a4-dac8-acaa8e574fe8",
        "colab": {
          "base_uri": "https://localhost:8080/"
        }
      },
      "execution_count": null,
      "outputs": [
        {
          "output_type": "execute_result",
          "data": {
            "text/plain": [
              "SVC(gamma=0.001)"
            ]
          },
          "metadata": {},
          "execution_count": 59
        }
      ]
    },
    {
      "cell_type": "markdown",
      "source": [
        "#Save the model to disk\n",
        "Save the model persistently so that it can be loaded at a later time in another process for evaluation or inference"
      ],
      "metadata": {
        "id": "e4JVSs1DyMH2"
      }
    },
    {
      "cell_type": "code",
      "source": [
        "import pickle"
      ],
      "metadata": {
        "id": "-7K0TyTIyaFa"
      },
      "execution_count": 86,
      "outputs": []
    },
    {
      "cell_type": "code",
      "source": [
        "with open(\"model.pkl\",\"wb\") as fio:\n",
        "  pickle.dump(model, fio)"
      ],
      "metadata": {
        "id": "gjy1WwzmwFBc"
      },
      "execution_count": 87,
      "outputs": []
    },
    {
      "cell_type": "code",
      "source": [
        "with open(\"model.pkl\", \"rb\") as fio:\n",
        "  mymodel = pickle.load(fio)"
      ],
      "metadata": {
        "id": "2aeqRwjux1bU"
      },
      "execution_count": 88,
      "outputs": []
    },
    {
      "cell_type": "code",
      "source": [
        "mymodel.predict(x_test[:10]) #använder vå inladdade modell (som är samma som tidigare)"
      ],
      "metadata": {
        "id": "Ui_zMMCUx1ds",
        "outputId": "44ff805d-18f6-4f08-be45-cdc764290994",
        "colab": {
          "base_uri": "https://localhost:8080/"
        }
      },
      "execution_count": 89,
      "outputs": [
        {
          "output_type": "execute_result",
          "data": {
            "text/plain": [
              "array([1, 5, 9, 9, 5, 1, 1, 0, 9, 3])"
            ]
          },
          "metadata": {},
          "execution_count": 89
        }
      ]
    },
    {
      "cell_type": "code",
      "source": [
        "y_test[:10] #verifierar med labels"
      ],
      "metadata": {
        "id": "f6GAYhHQ0tbO",
        "outputId": "2f1c9889-19a5-4401-a703-9dbe77d031d9",
        "colab": {
          "base_uri": "https://localhost:8080/"
        }
      },
      "execution_count": 90,
      "outputs": [
        {
          "output_type": "execute_result",
          "data": {
            "text/plain": [
              "array([1, 5, 9, 9, 5, 1, 1, 0, 9, 3])"
            ]
          },
          "metadata": {},
          "execution_count": 90
        }
      ]
    },
    {
      "cell_type": "code",
      "source": [
        "Image.open(\"Egen-3.jpg\").resize((8,8)) #öppnar och resizar till vad modellen förväntar"
      ],
      "metadata": {
        "id": "dj5HEIOr0wL-",
        "outputId": "d72ad4a2-65cd-4d5f-a006-da7619dee07c",
        "colab": {
          "base_uri": "https://localhost:8080/",
          "height": 34
        }
      },
      "execution_count": 91,
      "outputs": [
        {
          "output_type": "execute_result",
          "data": {
            "text/plain": [
              "<PIL.Image.Image image mode=RGB size=8x8 at 0x7F9C5AC1A130>"
            ],
            "image/png": "[encoded data removed]"
          },
          "metadata": {},
          "execution_count": 91
        }
      ]
    },
    {
      "cell_type": "code",
      "source": [
        "Image.open(\"Egen-3bv.jpg\").resize((8,8)) #öppnar och resizar till vad modellen förväntar"
      ],
      "metadata": {
        "id": "joSduRHYCVJy",
        "outputId": "547bde23-8261-4a06-8d30-fe9c03df972e",
        "colab": {
          "base_uri": "https://localhost:8080/",
          "height": 34
        }
      },
      "execution_count": 114,
      "outputs": [
        {
          "output_type": "execute_result",
          "data": {
            "text/plain": [
              "<PIL.Image.Image image mode=RGB size=8x8 at 0x7F9C5AB73A00>"
            ],
            "image/png": "[encoded data removed]"
          },
          "metadata": {},
          "execution_count": 114
        }
      ]
    },
    {
      "cell_type": "code",
      "source": [
        "im = Image.open(\"Egen-3bv.jpg\").resize((8,8)) #gör om till 8x8 och sparar som im"
      ],
      "metadata": {
        "id": "f6GfVb1n236A"
      },
      "execution_count": 143,
      "outputs": []
    },
    {
      "cell_type": "code",
      "source": [
        "np_im.shape"
      ],
      "metadata": {
        "id": "NRzuOzQR3-bi",
        "outputId": "10fc0e34-ad95-415a-9b91-fca684ff1d6d",
        "colab": {
          "base_uri": "https://localhost:8080/"
        }
      },
      "execution_count": 142,
      "outputs": [
        {
          "output_type": "execute_result",
          "data": {
            "text/plain": [
              "(8, 8, 3)"
            ]
          },
          "metadata": {},
          "execution_count": 142
        }
      ]
    },
    {
      "cell_type": "code",
      "source": [
        "np_im = np.array(im) #gör till np.array"
      ],
      "metadata": {
        "id": "n-_u6Q-13Q_J"
      },
      "execution_count": 127,
      "outputs": []
    },
    {
      "cell_type": "code",
      "source": [
        "preprocessed_img = np_im.astype(np.float32) /255*16 #gör om till float och sätter till max 16"
      ],
      "metadata": {
        "id": "_uKAUQN73RBh"
      },
      "execution_count": 128,
      "outputs": []
    },
    {
      "cell_type": "code",
      "source": [
        "preprocessed_img.shape"
      ],
      "metadata": {
        "id": "UGdKF-2Q3cfv",
        "outputId": "a3d724e2-ec32-4c80-e4a8-a23ce7bec548",
        "colab": {
          "base_uri": "https://localhost:8080/"
        }
      },
      "execution_count": 119,
      "outputs": [
        {
          "output_type": "execute_result",
          "data": {
            "text/plain": [
              "(8, 8, 3)"
            ]
          },
          "metadata": {},
          "execution_count": 119
        }
      ]
    },
    {
      "cell_type": "code",
      "source": [
        "preprocessed_img[None].shape"
      ],
      "metadata": {
        "id": "nUZZS3u-4zA_",
        "outputId": "f0fb9e10-320a-4e74-88e7-1b68e23a1bf1",
        "colab": {
          "base_uri": "https://localhost:8080/"
        }
      },
      "execution_count": 98,
      "outputs": [
        {
          "output_type": "execute_result",
          "data": {
            "text/plain": [
              "(1, 8, 8, 3)"
            ]
          },
          "metadata": {},
          "execution_count": 98
        }
      ]
    },
    {
      "cell_type": "code",
      "source": [
        "preprocessed_img.reshape[-1] #samma som flatten"
      ],
      "metadata": {
        "id": "sfjRBndZDTCV",
        "outputId": "48476da9-67c2-478a-fef9-8695f0a4f2ba",
        "colab": {
          "base_uri": "https://localhost:8080/",
          "height": 165
        }
      },
      "execution_count": 106,
      "outputs": [
        {
          "output_type": "error",
          "ename": "TypeError",
          "evalue": "ignored",
          "traceback": [
            "\u001b[0;31m---------------------------------------------------------------------------\u001b[0m",
            "\u001b[0;31mTypeError\u001b[0m                                 Traceback (most recent call last)",
            "\u001b[0;32m<ipython-input-106-8551ee5217d3>\u001b[0m in \u001b[0;36m<module>\u001b[0;34m\u001b[0m\n\u001b[0;32m----> 1\u001b[0;31m \u001b[0mpreprocessed_img\u001b[0m\u001b[0;34m.\u001b[0m\u001b[0mreshape\u001b[0m\u001b[0;34m[\u001b[0m\u001b[0;34m-\u001b[0m\u001b[0;36m1\u001b[0m\u001b[0;34m]\u001b[0m\u001b[0;34m\u001b[0m\u001b[0;34m\u001b[0m\u001b[0m\n\u001b[0m",
            "\u001b[0;31mTypeError\u001b[0m: 'builtin_function_or_method' object is not subscriptable"
          ]
        }
      ]
    },
    {
      "cell_type": "code",
      "source": [
        "preprocessed_img.flatten().shape #sätter till en dimension"
      ],
      "metadata": {
        "id": "mB70lC-ZD-JP",
        "outputId": "efe8dac9-1481-4813-f7f8-6099f995ac41",
        "colab": {
          "base_uri": "https://localhost:8080/"
        }
      },
      "execution_count": 120,
      "outputs": [
        {
          "output_type": "execute_result",
          "data": {
            "text/plain": [
              "(192,)"
            ]
          },
          "metadata": {},
          "execution_count": 120
        }
      ]
    },
    {
      "cell_type": "code",
      "source": [
        "preprocessed_img.flatten()[None].shape #sätter till en dimension"
      ],
      "metadata": {
        "id": "iBTy32M8KElK"
      },
      "execution_count": null,
      "outputs": []
    },
    {
      "cell_type": "code",
      "source": [
        "bluech_egen = preprocessed_img[:,:,2] #gör om till svartvit"
      ],
      "metadata": {
        "id": "pZ26jSWjIX-2"
      },
      "execution_count": 131,
      "outputs": []
    },
    {
      "cell_type": "code",
      "source": [
        "bluech_egen.shape #nu 8x8, en channel"
      ],
      "metadata": {
        "id": "saHlHQnaJcjj",
        "outputId": "68e057a7-cf67-4764-aa50-2dbebab210a4",
        "colab": {
          "base_uri": "https://localhost:8080/"
        }
      },
      "execution_count": 133,
      "outputs": [
        {
          "output_type": "execute_result",
          "data": {
            "text/plain": [
              "(8, 8)"
            ]
          },
          "metadata": {},
          "execution_count": 133
        }
      ]
    },
    {
      "cell_type": "code",
      "source": [
        "Image.fromarray(bluech_egen, \"L\") #visar bild"
      ],
      "metadata": {
        "id": "2dX2ZlzfIvDj",
        "outputId": "ef123335-8f0b-4108-92ba-6b32897d39d7",
        "colab": {
          "base_uri": "https://localhost:8080/",
          "height": 34
        }
      },
      "execution_count": 132,
      "outputs": [
        {
          "output_type": "execute_result",
          "data": {
            "text/plain": [
              "<PIL.Image.Image image mode=L size=8x8 at 0x7F9C65D6D550>"
            ],
            "image/png": "[encoded data removed]"
          },
          "metadata": {},
          "execution_count": 132
        }
      ]
    },
    {
      "cell_type": "code",
      "source": [
        "processed_bluech_egen = bluech_egen.astype(np.float32) /255*16 #gör om till float och sätter till max 16 för min svartvita"
      ],
      "metadata": {
        "id": "FX2ywfMyJQ3N"
      },
      "execution_count": 134,
      "outputs": []
    },
    {
      "cell_type": "code",
      "source": [
        "processed_bluech_egen.flatten().shape #sätter till en dimension"
      ],
      "metadata": {
        "id": "R1BSmJJHJQ8f",
        "outputId": "761a9452-bcdf-4000-e1d5-04dce90158a5",
        "colab": {
          "base_uri": "https://localhost:8080/"
        }
      },
      "execution_count": 135,
      "outputs": [
        {
          "output_type": "execute_result",
          "data": {
            "text/plain": [
              "(64,)"
            ]
          },
          "metadata": {},
          "execution_count": 135
        }
      ]
    },
    {
      "cell_type": "code",
      "source": [
        "processed_bluech_egen.flatten().shape"
      ],
      "metadata": {
        "id": "gNDOhry6JRD0",
        "outputId": "48999d29-6a3d-4dcf-e639-f9b8ad6ce2f8",
        "colab": {
          "base_uri": "https://localhost:8080/"
        }
      },
      "execution_count": 139,
      "outputs": [
        {
          "output_type": "execute_result",
          "data": {
            "text/plain": [
              "(64,)"
            ]
          },
          "metadata": {},
          "execution_count": 139
        }
      ]
    },
    {
      "cell_type": "code",
      "source": [
        "processed_bluech_egen.flatten()[None].shape #gör till en lista med 64 (8x8)"
      ],
      "metadata": {
        "id": "B9-hSpXfEazA",
        "outputId": "d03977fd-c8f0-4896-aa94-a71cffed0da1",
        "colab": {
          "base_uri": "https://localhost:8080/"
        }
      },
      "execution_count": 137,
      "outputs": [
        {
          "output_type": "execute_result",
          "data": {
            "text/plain": [
              "(1, 64)"
            ]
          },
          "metadata": {},
          "execution_count": 137
        }
      ]
    },
    {
      "cell_type": "code",
      "source": [
        "model.predict(processed_bluech_egen.flatten()[None]) #predikterar (fel)"
      ],
      "metadata": {
        "id": "5uCZ3ibj47ww",
        "outputId": "3adc9b0f-62db-411a-e0b1-1fe9a57a0208",
        "colab": {
          "base_uri": "https://localhost:8080/"
        }
      },
      "execution_count": 140,
      "outputs": [
        {
          "output_type": "execute_result",
          "data": {
            "text/plain": [
              "array([1])"
            ]
          },
          "metadata": {},
          "execution_count": 140
        }
      ]
    },
    {
      "cell_type": "code",
      "source": [],
      "metadata": {
        "id": "DwS1DdseFV3s",
        "outputId": "d1aab466-1c52-45ad-dfd3-2f09d1c52b08",
        "colab": {
          "base_uri": "https://localhost:8080/",
          "height": 165
        }
      },
      "execution_count": 144,
      "outputs": [
        {
          "output_type": "error",
          "ename": "TypeError",
          "evalue": "ignored",
          "traceback": [
            "\u001b[0;31m---------------------------------------------------------------------------\u001b[0m",
            "\u001b[0;31mTypeError\u001b[0m                                 Traceback (most recent call last)",
            "\u001b[0;32m<ipython-input-144-fe0c18ac9089>\u001b[0m in \u001b[0;36m<module>\u001b[0;34m\u001b[0m\n\u001b[0;32m----> 1\u001b[0;31m \u001b[0mim_sv\u001b[0m \u001b[0;34m=\u001b[0m \u001b[0mim\u001b[0m\u001b[0;34m[\u001b[0m\u001b[0;34m:\u001b[0m\u001b[0;34m,\u001b[0m\u001b[0;34m:\u001b[0m\u001b[0;34m,\u001b[0m\u001b[0;36m2\u001b[0m\u001b[0;34m]\u001b[0m\u001b[0;34m\u001b[0m\u001b[0;34m\u001b[0m\u001b[0m\n\u001b[0m",
            "\u001b[0;31mTypeError\u001b[0m: 'Image' object is not subscriptable"
          ]
        }
      ]
    },
    {
      "cell_type": "code",
      "source": [],
      "metadata": {
        "id": "FkwMBYepMrsA"
      },
      "execution_count": null,
      "outputs": []
    }
  ]
}